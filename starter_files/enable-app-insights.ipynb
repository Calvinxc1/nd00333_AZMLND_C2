{
 "cells": [
  {
   "cell_type": "code",
   "execution_count": 1,
   "metadata": {},
   "outputs": [],
   "source": [
    "from azureml.core import Workspace\n",
    "from azureml.core.webservice import Webservice"
   ]
  },
  {
   "cell_type": "code",
   "execution_count": 2,
   "metadata": {},
   "outputs": [],
   "source": [
    "# Requires the config to be downloaded first to the current working directory\n",
    "ws = Workspace.from_config()"
   ]
  },
  {
   "cell_type": "code",
   "execution_count": 3,
   "metadata": {},
   "outputs": [],
   "source": [
    "# Set with the deployment name\n",
    "name = \"p2-model\""
   ]
  },
  {
   "cell_type": "code",
   "execution_count": 4,
   "metadata": {},
   "outputs": [],
   "source": [
    "# load existing web service\n",
    "service = Webservice(name=name, workspace=ws)"
   ]
  },
  {
   "cell_type": "code",
   "execution_count": 5,
   "metadata": {},
   "outputs": [],
   "source": [
    "# enable application insight\n",
    "service.update(enable_app_insights=True)"
   ]
  },
  {
   "cell_type": "code",
   "execution_count": 6,
   "metadata": {},
   "outputs": [
    {
     "name": "stdout",
     "output_type": "stream",
     "text": [
      "2021-02-04T15:35:31,157395129+00:00 - rsyslog/run \n",
      "2021-02-04T15:35:31,158484139+00:00 - iot-server/run \n",
      "2021-02-04T15:35:31,161772167+00:00 - nginx/run \n",
      "/usr/sbin/nginx: /azureml-envs/azureml_20a8278aa8b20dd48cc50f56a6d2586c/lib/libcrypto.so.1.0.0: no version information available (required by /usr/sbin/nginx)\n",
      "/usr/sbin/nginx: /azureml-envs/azureml_20a8278aa8b20dd48cc50f56a6d2586c/lib/libcrypto.so.1.0.0: no version information available (required by /usr/sbin/nginx)\n",
      "/usr/sbin/nginx: /azureml-envs/azureml_20a8278aa8b20dd48cc50f56a6d2586c/lib/libssl.so.1.0.0: no version information available (required by /usr/sbin/nginx)\n",
      "/usr/sbin/nginx: /azureml-envs/azureml_20a8278aa8b20dd48cc50f56a6d2586c/lib/libssl.so.1.0.0: no version information available (required by /usr/sbin/nginx)\n",
      "/usr/sbin/nginx: /azureml-envs/azureml_20a8278aa8b20dd48cc50f56a6d2586c/lib/libssl.so.1.0.0: no version information available (required by /usr/sbin/nginx)\n",
      "2021-02-04T15:35:31,163638983+00:00 - gunicorn/run \n",
      "rsyslogd: /azureml-envs/azureml_20a8278aa8b20dd48cc50f56a6d2586c/lib/libuuid.so.1: no version information available (required by rsyslogd)\n",
      "EdgeHubConnectionString and IOTEDGE_IOTHUBHOSTNAME are not set. Exiting...\n",
      "2021-02-04T15:35:31,249628617+00:00 - iot-server/finish 1 0\n",
      "2021-02-04T15:35:31,250873727+00:00 - Exit code 1 is normal. Not restarting iot-server.\n",
      "Starting gunicorn 19.9.0\n",
      "Listening at: http://127.0.0.1:31311 (14)\n",
      "Using worker: sync\n",
      "worker timeout is set to 300\n",
      "Booting worker with pid: 42\n",
      "SPARK_HOME not set. Skipping PySpark Initialization.\n",
      "Generating new fontManager, this may take some time...\n",
      "Initializing logger\n",
      "2021-02-04 15:35:32,514 | root | INFO | Starting up app insights client\n",
      "2021-02-04 15:35:32,514 | root | INFO | Starting up request id generator\n",
      "2021-02-04 15:35:32,514 | root | INFO | Starting up app insight hooks\n",
      "2021-02-04 15:35:32,514 | root | INFO | Invoking user's init function\n",
      "2021-02-04 15:35:35,495 | root | INFO | Users's init has completed successfully\n",
      "2021-02-04 15:35:35,498 | root | INFO | Skipping middleware: dbg_model_info as it's not enabled.\n",
      "2021-02-04 15:35:35,498 | root | INFO | Skipping middleware: dbg_resource_usage as it's not enabled.\n",
      "2021-02-04 15:35:35,501 | root | INFO | Scoring timeout is found from os.environ: 60000 ms\n",
      "2021-02-04 15:36:04,657 | root | INFO | 200\n",
      "127.0.0.1 - - [04/Feb/2021:15:36:04 +0000] \"GET /swagger.json HTTP/1.0\" 200 3240 \"-\" \"Go-http-client/1.1\"\n",
      "2021-02-04 15:46:54,423 | root | INFO | 200\n",
      "127.0.0.1 - - [04/Feb/2021:15:46:54 +0000] \"GET /swagger.json HTTP/1.0\" 200 3240 \"-\" \"Go-http-client/1.1\"\n",
      "2021-02-04 15:46:56,139 | root | INFO | 200\n",
      "127.0.0.1 - - [04/Feb/2021:15:46:56 +0000] \"GET /swagger.json HTTP/1.0\" 200 3240 \"-\" \"Go-http-client/1.1\"\n",
      "\n"
     ]
    }
   ],
   "source": [
    "# log test\n",
    "logs = service.get_logs()\n",
    "\n",
    "for line in logs.split('\\n'):\n",
    "    print(line)"
   ]
  },
  {
   "cell_type": "code",
   "execution_count": null,
   "metadata": {},
   "outputs": [],
   "source": []
  }
 ],
 "metadata": {
  "kernelspec": {
   "display_name": "Python 3.6 - AzureML",
   "language": "python",
   "name": "python3-azureml"
  },
  "language_info": {
   "codemirror_mode": {
    "name": "ipython",
    "version": 3
   },
   "file_extension": ".py",
   "mimetype": "text/x-python",
   "name": "python",
   "nbconvert_exporter": "python",
   "pygments_lexer": "ipython3",
   "version": "3.6.9"
  }
 },
 "nbformat": 4,
 "nbformat_minor": 4
}
